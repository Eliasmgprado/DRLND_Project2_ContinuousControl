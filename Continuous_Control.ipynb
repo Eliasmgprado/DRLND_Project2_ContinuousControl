{
 "cells": [
  {
   "cell_type": "markdown",
   "metadata": {},
   "source": [
    "# Continuous Control\n",
    "\n",
    "---\n",
    "\n",
    "In this notebook, you will learn how to use the Unity ML-Agents environment for the second project of the [Deep Reinforcement Learning Nanodegree](https://www.udacity.com/course/deep-reinforcement-learning-nanodegree--nd893) program.\n",
    "\n",
    "### 1. Start the Environment\n",
    "\n",
    "We begin by importing the necessary packages.  If the code cell below returns an error, please revisit the project instructions to double-check that you have installed [Unity ML-Agents](https://github.com/Unity-Technologies/ml-agents/blob/master/docs/Installation.md) and [NumPy](http://www.numpy.org/)."
   ]
  },
  {
   "cell_type": "code",
   "execution_count": 1,
   "metadata": {},
   "outputs": [],
   "source": [
    "from unityagents import UnityEnvironment\n",
    "import numpy as np"
   ]
  },
  {
   "cell_type": "markdown",
   "metadata": {},
   "source": [
    "Next, we will start the environment!  **_Before running the code cell below_**, change the `file_name` parameter to match the location of the Unity environment that you downloaded.\n",
    "\n",
    "- **Mac**: `\"path/to/Reacher.app\"`\n",
    "- **Windows** (x86): `\"path/to/Reacher_Windows_x86/Reacher.exe\"`\n",
    "- **Windows** (x86_64): `\"path/to/Reacher_Windows_x86_64/Reacher.exe\"`\n",
    "- **Linux** (x86): `\"path/to/Reacher_Linux/Reacher.x86\"`\n",
    "- **Linux** (x86_64): `\"path/to/Reacher_Linux/Reacher.x86_64\"`\n",
    "- **Linux** (x86, headless): `\"path/to/Reacher_Linux_NoVis/Reacher.x86\"`\n",
    "- **Linux** (x86_64, headless): `\"path/to/Reacher_Linux_NoVis/Reacher.x86_64\"`\n",
    "\n",
    "For instance, if you are using a Mac, then you downloaded `Reacher.app`.  If this file is in the same folder as the notebook, then the line below should appear as follows:\n",
    "```\n",
    "env = UnityEnvironment(file_name=\"Reacher.app\")\n",
    "```"
   ]
  },
  {
   "cell_type": "code",
   "execution_count": 2,
   "metadata": {},
   "outputs": [
    {
     "name": "stderr",
     "output_type": "stream",
     "text": [
      "INFO:unityagents:\n",
      "'Academy' started successfully!\n",
      "Unity Academy name: Academy\n",
      "        Number of Brains: 1\n",
      "        Number of External Brains : 1\n",
      "        Lesson number : 0\n",
      "        Reset Parameters :\n",
      "\t\tgoal_speed -> 1.0\n",
      "\t\tgoal_size -> 5.0\n",
      "Unity brain name: ReacherBrain\n",
      "        Number of Visual Observations (per agent): 0\n",
      "        Vector Observation space type: continuous\n",
      "        Vector Observation space size (per agent): 33\n",
      "        Number of stacked Vector Observation: 1\n",
      "        Vector Action space type: continuous\n",
      "        Vector Action space size (per agent): 4\n",
      "        Vector Action descriptions: , , , \n"
     ]
    }
   ],
   "source": [
    "env = UnityEnvironment(file_name='Reacher_Windows_x86_64_v2/Reacher.exe')"
   ]
  },
  {
   "cell_type": "markdown",
   "metadata": {},
   "source": [
    "Environments contain **_brains_** which are responsible for deciding the actions of their associated agents. Here we check for the first brain available, and set it as the default brain we will be controlling from Python."
   ]
  },
  {
   "cell_type": "code",
   "execution_count": 3,
   "metadata": {},
   "outputs": [],
   "source": [
    "# get the default brain\n",
    "brain_name = env.brain_names[0]\n",
    "brain = env.brains[brain_name]"
   ]
  },
  {
   "cell_type": "markdown",
   "metadata": {},
   "source": [
    "### 2. Examine the State and Action Spaces\n",
    "\n",
    "In this environment, a double-jointed arm can move to target locations. A reward of `+0.1` is provided for each step that the agent's hand is in the goal location. Thus, the goal of your agent is to maintain its position at the target location for as many time steps as possible.\n",
    "\n",
    "The observation space consists of `33` variables corresponding to position, rotation, velocity, and angular velocities of the arm.  Each action is a vector with four numbers, corresponding to torque applicable to two joints.  Every entry in the action vector must be a number between `-1` and `1`.\n",
    "\n",
    "Run the code cell below to print some information about the environment."
   ]
  },
  {
   "cell_type": "code",
   "execution_count": 4,
   "metadata": {},
   "outputs": [
    {
     "name": "stdout",
     "output_type": "stream",
     "text": [
      "Number of agents: 20\n",
      "Size of each action: 4\n",
      "There are 20 agents. Each observes a state with length: 33\n",
      "The state for the first agent looks like: [ 0.00000000e+00 -4.00000000e+00  0.00000000e+00  1.00000000e+00\n",
      " -0.00000000e+00 -0.00000000e+00 -4.37113883e-08  0.00000000e+00\n",
      "  0.00000000e+00  0.00000000e+00  0.00000000e+00  0.00000000e+00\n",
      "  0.00000000e+00  0.00000000e+00 -1.00000000e+01  0.00000000e+00\n",
      "  1.00000000e+00 -0.00000000e+00 -0.00000000e+00 -4.37113883e-08\n",
      "  0.00000000e+00  0.00000000e+00  0.00000000e+00  0.00000000e+00\n",
      "  0.00000000e+00  0.00000000e+00  5.75471878e+00 -1.00000000e+00\n",
      "  5.55726624e+00  0.00000000e+00  1.00000000e+00  0.00000000e+00\n",
      " -1.68164849e-01]\n"
     ]
    }
   ],
   "source": [
    "# reset the environment\n",
    "env_info = env.reset(train_mode=True)[brain_name]\n",
    "\n",
    "# number of agents\n",
    "num_agents = len(env_info.agents)\n",
    "print('Number of agents:', num_agents)\n",
    "\n",
    "# size of each action\n",
    "action_size = brain.vector_action_space_size\n",
    "print('Size of each action:', action_size)\n",
    "\n",
    "# examine the state space \n",
    "states = env_info.vector_observations\n",
    "state_size = states.shape[1]\n",
    "print('There are {} agents. Each observes a state with length: {}'.format(states.shape[0], state_size))\n",
    "print('The state for the first agent looks like:', states[0])"
   ]
  },
  {
   "cell_type": "markdown",
   "metadata": {},
   "source": [
    "### 3. Take Random Actions in the Environment\n",
    "\n",
    "In the next code cell, you will learn how to use the Python API to control the agent and receive feedback from the environment.\n",
    "\n",
    "Once this cell is executed, you will watch the agent's performance, if it selects an action at random with each time step.  A window should pop up that allows you to observe the agent, as it moves through the environment.  \n",
    "\n",
    "Of course, as part of the project, you'll have to change the code so that the agent is able to use its experience to gradually choose better actions when interacting with the environment!"
   ]
  },
  {
   "cell_type": "code",
   "execution_count": 5,
   "metadata": {},
   "outputs": [],
   "source": [
    "# env_info = env.reset(train_mode=False)[brain_name]     # reset the environment    \n",
    "# states = env_info.vector_observations                  # get the current state (for each agent)\n",
    "# scores = np.zeros(num_agents)                          # initialize the score (for each agent)\n",
    "# while True:\n",
    "#     actions = np.random.randn(num_agents, action_size) # select an action (for each agent)\n",
    "#     actions = np.clip(actions, -1, 1)                  # all actions between -1 and 1\n",
    "#     env_info = env.step(actions)[brain_name]           # send all actions to tne environment\n",
    "#     next_states = env_info.vector_observations         # get next state (for each agent)\n",
    "#     rewards = env_info.rewards                         # get reward (for each agent)\n",
    "#     dones = env_info.local_done                        # see if episode finished\n",
    "#     scores += env_info.rewards                         # update the score (for each agent)\n",
    "#     states = next_states                               # roll over states to next time step\n",
    "#     if np.any(dones):                                  # exit loop if episode finished\n",
    "#         break\n",
    "# print('Total score (averaged over agents) this episode: {}'.format(np.mean(scores)))"
   ]
  },
  {
   "cell_type": "markdown",
   "metadata": {},
   "source": [
    "When finished, you can close the environment."
   ]
  },
  {
   "cell_type": "code",
   "execution_count": 6,
   "metadata": {},
   "outputs": [],
   "source": [
    "# env.close()"
   ]
  },
  {
   "cell_type": "markdown",
   "metadata": {},
   "source": [
    "### 4. It's Your Turn!\n",
    "\n",
    "Now it's your turn to train your own agent to solve the environment!  When training the environment, set `train_mode=True`, so that the line for resetting the environment looks like the following:\n",
    "```python\n",
    "env_info = env.reset(train_mode=True)[brain_name]\n",
    "```"
   ]
  },
  {
   "cell_type": "markdown",
   "metadata": {},
   "source": [
    "### DDPG Implementation"
   ]
  },
  {
   "cell_type": "code",
   "execution_count": 7,
   "metadata": {},
   "outputs": [
    {
     "name": "stdout",
     "output_type": "stream",
     "text": [
      "Running on: cuda:0\n"
     ]
    }
   ],
   "source": [
    "from utils import Config\n",
    "from nn import Actor, Critic, ContinuousActorCriticNet\n",
    "from agent import DDPG_Agent, PPO_Agent"
   ]
  },
  {
   "cell_type": "code",
   "execution_count": 8,
   "metadata": {},
   "outputs": [],
   "source": [
    "from collections import deque\n",
    "import time\n",
    "import datetime\n",
    "\n",
    "import torch\n",
    "import pickle\n",
    "\n",
    "class PPO_Trainer():\n",
    "    ''' Train PPO agent. '''\n",
    "    \n",
    "    TARGET_SCORE = 30                             # Enviroment average target score over 100 consecutive episodes\n",
    "    def __init__(self, agent, n_agents=1):\n",
    "        '''\n",
    "        Params\n",
    "        ======\n",
    "        agent (object): PPO agent class\n",
    "        n_agents (int): Number of parallel agents\n",
    "        '''\n",
    "        self.agent = agent\n",
    "        self.n_agents = n_agents\n",
    "        self.scores_deque = deque(maxlen=100)     # last 100 scores\n",
    "        self.scores_ep = []                       # list containing scores from each episode\n",
    "        self.max_score = 0                        # initialize agent max score \n",
    "\n",
    "    def train(self, n_episodes=1000, print_every=100, verbose=True, save=True, \n",
    "              save_name='', stop=False):\n",
    "        ''' Train the agent. '''\n",
    "        \n",
    "        start_time = time.time()                   # register start time\n",
    "        num_agents = self.n_agents\n",
    "        \n",
    "        for i_episode in range(1, n_episodes+1):\n",
    "            \n",
    "            self.agent.reset()\n",
    "            \n",
    "            scores = self.agent.step()\n",
    "            scores = np.sum(scores, axis=0)\n",
    "\n",
    "  \n",
    "            self.scores_deque.append(np.mean(scores))\n",
    "            self.scores_ep.append(np.mean(scores))\n",
    "\n",
    "            exec_time = time.time() - start_time\n",
    "            print(f'\\rEpisode {i_episode}\\tAverage Score: {np.mean(self.scores_deque):.2f} ' + \\\n",
    "                  f'exec.time: {str(datetime.timedelta(seconds=exec_time))}', end=\"\")\n",
    "\n",
    "            if i_episode % print_every == 0 and verbose:\n",
    "                print(f'\\rEpisode {i_episode}\\tAverage Score: {np.mean(self.scores_deque):.2f} ' + \\\n",
    "                      f'exec.time: {str(datetime.timedelta(seconds=exec_time))}')\n",
    "\n",
    "            ## Check if eviroment is solved and save checkpoint\n",
    "            if np.mean(self.scores_deque) >= self.TARGET_SCORE and len(self.scores_deque) == 100:\n",
    "                if self.max_score == 0:\n",
    "                    print(' <-- Objective Achived!')\n",
    "                    print(f'- Average score of +{np.mean(self.scores_deque):.2f} over 100 consecutive episodes')\n",
    "\n",
    "                    if stop:\n",
    "                        print('- Trainining Finished -')\n",
    "                        print(f'- Total training time:\\t{str(datetime.timedelta(seconds=exec_time))}')\n",
    "                        \n",
    "                    \n",
    "                        if save:\n",
    "                            torch.save(self.agent.network.state_dict(), f'checkpoint_ppo_net_{save_name}.pth')\n",
    "                            \n",
    "                            with open(f'scores_{save_name}.pkl', 'wb') as handle:\n",
    "                                pickle.dump(self.scores_ep, handle, protocol=pickle.HIGHEST_PROTOCOL)\n",
    "                            \n",
    "                        return self.scores_ep, i_episode\n",
    "\n",
    "                if np.mean(self.scores_deque) >= self.max_score:\n",
    "                    max_score = np.mean(self.scores_deque)\n",
    "\n",
    "                    if save:\n",
    "                        torch.save(self.agent.network.state_dict(), f'checkpoint_ppo_net_{save_name}.pth')\n",
    "\n",
    "        exec_time = time.time() - start_time                   # compute training time\n",
    "\n",
    "        ## save training scores\n",
    "        if save:\n",
    "            with open(f'scores_{save_name}.pkl', 'wb') as handle:\n",
    "                pickle.dump(self.scores_ep, handle, protocol=pickle.HIGHEST_PROTOCOL)\n",
    "\n",
    "\n",
    "        print('- Trainining Finished -')\n",
    "        print(f'\\t-Total training time:\\t{str(datetime.timedelta(seconds=exec_time))}')\n",
    "        if self.max_score > 0:\n",
    "            print(f'\\t-Maximum average score of +{max_score} over 100 consecutive episodes')\n",
    "        else:\n",
    "            if stop:\n",
    "                return self.scores_ep, 9999\n",
    "            print('!!! Objective NOT achived !!!')\n",
    "        return self.scores_ep\n",
    "        "
   ]
  },
  {
   "cell_type": "code",
   "execution_count": 9,
   "metadata": {},
   "outputs": [],
   "source": [
    "config = Config()\n",
    "\n",
    "config.batch_size = 128\n",
    "\n",
    "\n",
    "config.gamma = 0.99\n",
    "# config.tau = 1e-3\n",
    "config.gae_tau = 0.95\n",
    "config.lr = 5e-5\n",
    "config.l2_reg = 0\n",
    "config.clip_grad = 1\n",
    "\n",
    "config.fc1_act = 400\n",
    "config.fc2_act = 300\n",
    "config.fc1_crit = 400\n",
    "config.fc2_crit = 300\n",
    "config.trajectory_steps = 1000\n",
    "config.SGD_epoch = 10\n",
    "\n",
    "config.epsilon = 0.1\n",
    "config.beta = 0.01\n",
    "\n",
    "config.add_noise = True\n",
    "\n",
    "config.bn = False"
   ]
  },
  {
   "cell_type": "code",
   "execution_count": 10,
   "metadata": {},
   "outputs": [],
   "source": [
    "import pickle\n",
    "with open('PPO_config.pkl', 'wb') as handle:\n",
    "    pickle.dump(config, handle, protocol=pickle.HIGHEST_PROTOCOL)\n"
   ]
  },
  {
   "cell_type": "code",
   "execution_count": 11,
   "metadata": {},
   "outputs": [],
   "source": [
    "config.brain_name = brain_name\n",
    "config.env = env"
   ]
  },
  {
   "cell_type": "code",
   "execution_count": 12,
   "metadata": {},
   "outputs": [],
   "source": [
    "agent = PPO_Agent(state_size, action_size, random_seed=420, config=config)"
   ]
  },
  {
   "cell_type": "code",
   "execution_count": 13,
   "metadata": {},
   "outputs": [],
   "source": [
    "trainer = PPO_Trainer(agent, num_agents)\n"
   ]
  },
  {
   "cell_type": "code",
   "execution_count": 14,
   "metadata": {},
   "outputs": [
    {
     "name": "stdout",
     "output_type": "stream",
     "text": [
      "Episode 100\tAverage Score: 2.81 exec.time: 0:35:30.431455\n",
      "Episode 200\tAverage Score: 13.78 exec.time: 1:12:21.795442\n",
      "Episode 300\tAverage Score: 26.73 exec.time: 1:49:03.906161\n",
      "Episode 342\tAverage Score: 30.07 exec.time: 2:04:32.573378 <-- Objective Achived!\n",
      "- Average score of +30.07 over 100 consecutive episodes\n",
      "- Trainining Finished -\n",
      "- Total training time:\t2:04:32.573378\n"
     ]
    }
   ],
   "source": [
    "scores, _ = trainer.train(n_episodes=500, print_every=100, verbose=True, save=True, stop=True,\n",
    "                          save_name='PPO_test_')"
   ]
  },
  {
   "cell_type": "code",
   "execution_count": 15,
   "metadata": {},
   "outputs": [
    {
     "data": {
      "image/png": "[encoded data removed]",
      "text/plain": [
       "<Figure size 432x288 with 1 Axes>"
      ]
     },
     "metadata": {
      "needs_background": "light"
     },
     "output_type": "display_data"
    }
   ],
   "source": [
    "from matplotlib import pyplot as plt\n",
    "\n",
    "fig = plt.figure()\n",
    "ax = fig.add_subplot(111)\n",
    "plt.plot(np.arange(1, len(scores)+1), scores)\n",
    "plt.ylabel('Score')\n",
    "plt.xlabel('Episode #')\n",
    "plt.show()"
   ]
  },
  {
   "cell_type": "code",
   "execution_count": 10,
   "metadata": {},
   "outputs": [],
   "source": [
    "import datetime\n",
    "import time\n",
    "import pickle\n",
    "\n",
    "# agent = Agent(state_size, action_size, random_seed=2)\n",
    "\n",
    "\n",
    "\n",
    "class Trainer():\n",
    "    \n",
    "    TARGET_SCORE = 30\n",
    "    def __init__(self, env, brain_name, agent, n_agents=1):\n",
    "        self.agent = agent\n",
    "        self.n_agents = n_agents\n",
    "        self.scores_deque = deque(maxlen=100)     # last 100 scores\n",
    "        self.scores_ep = []                       # list containing scores from each episode\n",
    "        self.env = env\n",
    "        self.brain_name = brain_name\n",
    "        self.max_score = 0                        # initialize agent max score \n",
    "\n",
    "        \n",
    "    def train(self, n_episodes=1000, max_t=500, print_every=100, verbose=True, save=True, \n",
    "              save_name='', stop=False):\n",
    "        \n",
    "        start_time = time.time()                   # register start time\n",
    "        num_agents = self.n_agents\n",
    "        \n",
    "        for i_episode in range(1, n_episodes+1):\n",
    "            env_info = self.env.reset(train_mode=True)[brain_name]   # Init Enviroment\n",
    "            states = env_info.vector_observations                    # Get Initial State\n",
    "            scores = np.zeros(self.n_agents)                            # array with episode scores\n",
    "\n",
    "            self.agent.reset()                                       # Reset Noise\n",
    "            for t in range(max_t):\n",
    "                actions = self.agent.act(states)\n",
    "\n",
    "                env_info = self.env.step(actions)[self.brain_name]\n",
    "    #             print(env_info.vector_observations.shape)\n",
    "                next_state = env_info.vector_observations\n",
    "                rewards = env_info.rewards\n",
    "                done = env_info.local_done\n",
    "                \n",
    "                for n in range(num_agents):\n",
    "                    self.agent.step(states[n], actions[n], rewards[n], next_state[n], done[n])\n",
    "                states = next_state\n",
    "                scores += rewards\n",
    "#                 print(done)\n",
    "                if np.any(done):\n",
    "                    break \n",
    "            self.scores_deque.append(np.mean(scores))\n",
    "            self.scores_ep.append(np.mean(scores))\n",
    "\n",
    "            exec_time = time.time() - start_time\n",
    "            print(f'\\rEpisode {i_episode}\\tAverage Score: {np.mean(self.scores_deque):.2f} ' + \\\n",
    "                  f'exec.time: {str(datetime.timedelta(seconds=exec_time))}', end=\"\")\n",
    "\n",
    "            if i_episode % print_every == 0 and verbose:\n",
    "                print(f'\\rEpisode {i_episode}\\tAverage Score: {np.mean(self.scores_deque):.2f} ' + \\\n",
    "                      f'exec.time: {str(datetime.timedelta(seconds=exec_time))}')\n",
    "\n",
    "            ## Check if eviroment is solved and save checkpoint\n",
    "            if np.mean(self.scores_deque) >= self.TARGET_SCORE and len(self.scores_deque) == 100:\n",
    "                if self.max_score == 0:\n",
    "                    print(' <-- Objective Achived!')\n",
    "                    print(f'- Average score of +{np.mean(self.scores_deque):.2f} over 100 consecutive episodes')\n",
    "\n",
    "                    if stop:\n",
    "                        print('- Trainining Finished -')\n",
    "                        print(f'- Total training time:\\t{str(datetime.timedelta(seconds=exec_time))}')\n",
    "                        \n",
    "                    \n",
    "                        if save:\n",
    "                            torch.save(self.agent.actor_local.state_dict(), f'checkpoint_actor_{save_name}.pth')\n",
    "                            torch.save(self.agent.critic_local.state_dict(), f'checkpoint__critic_{save_name}.pth')\n",
    "                            \n",
    "                            with open(f'scores_{save_name}.pkl', 'wb') as handle:\n",
    "                                pickle.dump(self.scores_ep, handle, protocol=pickle.HIGHEST_PROTOCOL)\n",
    "                            \n",
    "                        return self.scores_ep, i_episode\n",
    "\n",
    "                if np.mean(self.scores_deque) >= self.max_score:\n",
    "                    max_score = np.mean(self.scores_deque)\n",
    "\n",
    "                    if save:\n",
    "                        torch.save(self.agent.actor_local.state_dict(), f'checkpoint_actor_{save_name}.pth')\n",
    "                        torch.save(self.agent.critic_local.state_dict(), f'checkpoint__critic_{save_name}.pth')\n",
    "\n",
    "        exec_time = time.time() - start_time                   # compute training time\n",
    "\n",
    "        ## save training scores\n",
    "        if save:\n",
    "            with open(f'scores_{save_name}.pkl', 'wb') as handle:\n",
    "                pickle.dump(self.scores_ep, handle, protocol=pickle.HIGHEST_PROTOCOL)\n",
    "\n",
    "\n",
    "        print('- Trainining Finished -')\n",
    "        print(f'\\t-Total training time:\\t{str(datetime.timedelta(seconds=exec_time))}')\n",
    "        if self.max_score > 0:\n",
    "            print(f'\\t-Maximum average score of +{max_score} over 100 consecutive episodes')\n",
    "        else:\n",
    "            if stop:\n",
    "                return self.scores_ep, 9999\n",
    "            print('!!! Objective NOT achived !!!')\n",
    "        return self.scores_ep\n",
    "        \n"
   ]
  },
  {
   "cell_type": "code",
   "execution_count": 11,
   "metadata": {},
   "outputs": [],
   "source": [
    "import itertools\n",
    "\n",
    "def nn_gridsearch(hiper_dict,inter=1, n_episodes=30, max_t=700, save_name=''):\n",
    "    \"\"\"Grid Search for NN eural Network Hiperparameters.\n",
    "    \n",
    "    Find the best hiperparameter based on training speed (number of episodes taken to achive score of +13).\n",
    "    \n",
    "    Params\n",
    "    ======\n",
    "        hiper_dict (dict): Hiperparameters dictionary with key = <hiperparameter attribute name> and value = \n",
    "                            <list of hiperparameter values to be searched>. ex:\n",
    "                            hiper_dict = {\n",
    "                                            'start_filter': [16, 32],\n",
    "                                            'layers': [1, 2],\n",
    "                                            'dropout': [0.1, 0.2]\n",
    "                                        } \n",
    "        inter (int): Number of intercations at each hiperparameter set.\n",
    "                        \n",
    "    \"\"\"\n",
    "    best_score = -1\n",
    "    best = {}\n",
    "    for hiper in itertools.product(*hiper_dict.values()):\n",
    "        h_dict = {k: h for k, h in zip(hiper_dict.keys(), hiper)}\n",
    "        \n",
    "        config = Config()\n",
    "        config.merge(h_dict)\n",
    "#         print(config)\n",
    "        print(h_dict)\n",
    "        for i in range(inter):\n",
    "            \n",
    "            agent = DDPG_Agent(state_size, action_size, random_seed=4200, config=config)\n",
    "            \n",
    "            trainer = Trainer(env, brain_name, agent, num_agents)\n",
    "            \n",
    "            scores, lst_episode = trainer.train(n_episodes=n_episodes, max_t=max_t, verbose=False, save=False, \n",
    "                          save_name=save_name, stop=True)\n",
    "\n",
    "            if np.mean(scores[-5:]) > best_score:\n",
    "                best_score = np.mean(scores[-min(n_episodes,100):])\n",
    "                best = h_dict\n",
    "\n",
    "            print('-'*20)\n",
    "    print(f'Best training score: {best_score}')\n",
    "    print('Best Hiperprameters:')\n",
    "    for k in best:\n",
    "        print(f'\\t{k}: {best[k]}')\n",
    "        \n",
    "    return best, best_score"
   ]
  },
  {
   "cell_type": "code",
   "execution_count": 12,
   "metadata": {
    "scrolled": true
   },
   "outputs": [
    {
     "name": "stdout",
     "output_type": "stream",
     "text": [
      "{'gamma': 0.99, 'tau': 0.001, 'lr_critic': 0.001, 'lr_actor': 0.0001, 'l2_reg': 0, 'clip_grad_act': 1, 'clip_grad_crit': 1, 'fc1_act': 400, 'fc2_act': 300, 'fc1_crit': 400, 'fc2_crit': 300, 'update_every': 5, 'update_times': 2, 'bn': True}\n",
      "Episode 50\tAverage Score: 21.29 exec.time: 1:44:31.978746- Trainining Finished -\n",
      "\t-Total training time:\t1:44:31.979709\n",
      "--------------------\n",
      "{'gamma': 0.99, 'tau': 0.001, 'lr_critic': 0.001, 'lr_actor': 0.0001, 'l2_reg': 0, 'clip_grad_act': 1, 'clip_grad_crit': 1, 'fc1_act': 400, 'fc2_act': 300, 'fc1_crit': 400, 'fc2_crit': 300, 'update_every': 5, 'update_times': 2, 'bn': False}\n",
      "Episode 50\tAverage Score: 3.13 exec.time: 1:24:57.094339- Trainining Finished -\n",
      "\t-Total training time:\t1:24:57.094339\n",
      "--------------------\n",
      "Best training score: 21.29408952404\n",
      "Best Hiperprameters:\n",
      "\tgamma: 0.99\n",
      "\ttau: 0.001\n",
      "\tlr_critic: 0.001\n",
      "\tlr_actor: 0.0001\n",
      "\tl2_reg: 0\n",
      "\tclip_grad_act: 1\n",
      "\tclip_grad_crit: 1\n",
      "\tfc1_act: 400\n",
      "\tfc2_act: 300\n",
      "\tfc1_crit: 400\n",
      "\tfc2_crit: 300\n",
      "\tupdate_every: 5\n",
      "\tupdate_times: 2\n",
      "\tbn: True\n"
     ]
    }
   ],
   "source": [
    "hiper_dict = {\n",
    "    'gamma': [.99],\n",
    "    'tau': [1e-3],\n",
    "    'lr_critic': [1e-3],\n",
    "    'lr_actor': [1e-4],\n",
    "    'l2_reg': [0],\n",
    "    'clip_grad_act': [1],\n",
    "    'clip_grad_crit': [1],\n",
    "    'fc1_act': [400],\n",
    "    'fc2_act': [300],\n",
    "    'fc1_crit': [400],\n",
    "    'fc2_crit': [300],\n",
    "    'update_every': [5],\n",
    "    'update_times': [2],\n",
    "    'bn': [True, False]\n",
    "}\n",
    "\n",
    "best, best_score = nn_gridsearch(hiper_dict, inter=1, n_episodes=50, max_t=1000, save_name='DDPG_test')"
   ]
  },
  {
   "cell_type": "code",
   "execution_count": 12,
   "metadata": {},
   "outputs": [],
   "source": [
    "config = Config()\n",
    "\n",
    "config.buffer_size = int(1e6)\n",
    "config.batch_size = 128\n",
    "\n",
    "config.gamma = 0.99\n",
    "config.tau = 1e-3\n",
    "config.lr_critic = 5e-5\n",
    "config.lr_actor = 5e-5\n",
    "config.l2_reg = 0\n",
    "config.clip_grad_act = 1\n",
    "config.clip_grad_crit = 1\n",
    "\n",
    "config.fc1_act = 400\n",
    "config.fc2_act = 300\n",
    "config.fc1_crit = 400\n",
    "config.fc2_crit = 300\n",
    "config.update_every = 20\n",
    "config.update_times = 10\n",
    "config.bn = False"
   ]
  },
  {
   "cell_type": "code",
   "execution_count": 13,
   "metadata": {},
   "outputs": [],
   "source": [
    "with open('DDPG_config.pkl', 'wb') as handle:\n",
    "    pickle.dump(config, handle, protocol=pickle.HIGHEST_PROTOCOL)\n"
   ]
  },
  {
   "cell_type": "code",
   "execution_count": 14,
   "metadata": {},
   "outputs": [],
   "source": [
    "agent = DDPG_Agent(state_size, action_size, random_seed=420, config=config)"
   ]
  },
  {
   "cell_type": "code",
   "execution_count": 15,
   "metadata": {},
   "outputs": [],
   "source": [
    "trainer = Trainer(env, brain_name, agent, num_agents)\n"
   ]
  },
  {
   "cell_type": "code",
   "execution_count": 16,
   "metadata": {},
   "outputs": [
    {
     "name": "stdout",
     "output_type": "stream",
     "text": [
      "Episode 100\tAverage Score: 33.67 exec.time: 4:59:55.688323\n",
      " <-- Objective Achived!\n",
      "- Average score of +33.67 over 100 consecutive episodes\n",
      "- Trainining Finished -\n",
      "- Total training time:\t4:59:55.688323\n"
     ]
    }
   ],
   "source": [
    "scores, _ = trainer.train(n_episodes=500, max_t=1000, print_every=100, verbose=True, save=True, stop=True,\n",
    "                          save_name='DDPG_test_')"
   ]
  },
  {
   "cell_type": "code",
   "execution_count": 17,
   "metadata": {},
   "outputs": [
    {
     "data": {
      "image/png": "[encoded data removed]",
      "text/plain": [
       "<Figure size 432x288 with 1 Axes>"
      ]
     },
     "metadata": {
      "needs_background": "light"
     },
     "output_type": "display_data"
    }
   ],
   "source": [
    "from matplotlib import pyplot as plt\n",
    "\n",
    "fig = plt.figure()\n",
    "ax = fig.add_subplot(111)\n",
    "plt.plot(np.arange(1, len(scores)+1), scores)\n",
    "plt.ylabel('Score')\n",
    "plt.xlabel('Episode #')\n",
    "plt.show()"
   ]
  },
  {
   "cell_type": "code",
   "execution_count": 24,
   "metadata": {},
   "outputs": [
    {
     "name": "stdout",
     "output_type": "stream",
     "text": [
      "Turn 0 Mean Score: 18.95299957636744\n"
     ]
    }
   ],
   "source": [
    "with open('DDPG_config.pkl', 'rb') as handle:\n",
    "    config = pickle.load(handle)\n",
    "\n",
    "agent = DDPG_Agent(state_size, action_size, random_seed=420, config=config)\n",
    "\n",
    "\n",
    "agent.actor_local.load_state_dict(torch.load('checkpoint_actor_DDPG_test_.pth'))\n",
    "agent.critic_local.load_state_dict(torch.load('checkpoint__critic_DDPG_test_.pth'))\n",
    "\n",
    "                                   \n",
    "for i in range(1):\n",
    "    env_info = env.reset(train_mode=False)[brain_name]   # Init Enviroment\n",
    "    states = env_info.vector_observations                    # Get Initial State\n",
    "    scores = np.zeros(num_agents)                            # array with episode scores\n",
    "\n",
    "    agent.reset()                                       # Reset Noise\n",
    "    for t in range(500):\n",
    "        actions = agent.act(states, add_noise=False)\n",
    "        env_info = env.step(actions)[brain_name]\n",
    "        next_state = env_info.vector_observations\n",
    "        rewards = env_info.rewards\n",
    "        done = env_info.local_done\n",
    "        states = next_state\n",
    "        scores += rewards\n",
    "#                 print(done)\n",
    "        if np.any(done):\n",
    "            break       \n",
    "    print(f'Turn {i} Mean Score: {np.mean(scores)}')"
   ]
  },
  {
   "cell_type": "code",
   "execution_count": 28,
   "metadata": {},
   "outputs": [
    {
     "name": "stdout",
     "output_type": "stream",
     "text": [
      "Turn 0 Mean Score: 18.545999585464596\n"
     ]
    }
   ],
   "source": [
    "with open('PPO_config.pkl', 'rb') as handle:\n",
    "    config = pickle.load(handle)\n",
    "    \n",
    "config.brain_name = brain_name\n",
    "config.env = env\n",
    "\n",
    "agent = PPO_Agent(state_size, action_size, random_seed=420, config=config)\n",
    "\n",
    "\n",
    "agent.network.load_state_dict(torch.load('checkpoint_ppo_net_PPO_test_.pth'))\n",
    "\n",
    "                                   \n",
    "for i in range(1):\n",
    "    env_info = config.env.reset(train_mode=False)[brain_name]   # Init Enviroment\n",
    "    states = env_info.vector_observations                    # Get Initial State\n",
    "    scores = np.zeros(num_agents)                            # array with episode scores\n",
    "\n",
    "    agent.reset()                                       # Reset Noise\n",
    "    for t in range(500):\n",
    "        actions = agent.act(states, add_noise=False)\n",
    "        env_info = config.env.step(actions)[brain_name]\n",
    "        next_state = env_info.vector_observations\n",
    "        rewards = env_info.rewards\n",
    "        done = env_info.local_done\n",
    "        states = next_state\n",
    "        scores += rewards\n",
    "#                 print(done)\n",
    "        if np.any(done):\n",
    "            break       \n",
    "    print(f'Turn {i} Mean Score: {np.mean(scores)}')\n"
   ]
  },
  {
   "cell_type": "code",
   "execution_count": null,
   "metadata": {},
   "outputs": [],
   "source": []
  }
 ],
 "metadata": {
  "kernelspec": {
   "display_name": "Python 3",
   "language": "python",
   "name": "python3"
  },
  "language_info": {
   "codemirror_mode": {
    "name": "ipython",
    "version": 3
   },
   "file_extension": ".py",
   "mimetype": "text/x-python",
   "name": "python",
   "nbconvert_exporter": "python",
   "pygments_lexer": "ipython3",
   "version": "3.6.7"
  }
 },
 "nbformat": 4,
 "nbformat_minor": 2
}
